{
 "cells": [
  {
   "cell_type": "code",
   "execution_count": 57,
   "id": "f919f420-463c-44a5-a319-06809dc64b68",
   "metadata": {
    "tags": []
   },
   "outputs": [
    {
     "name": "stdout",
     "output_type": "stream",
     "text": [
      "Number of cases where step 25 was reached: 66535\n"
     ]
    }
   ],
   "source": [
    "import random\n",
    "\n",
    "def throw_coin():\n",
    "    return random.randint(1, 2)  # Simulating the coin toss: 1 for heads, 2 for tails\n",
    "\n",
    "def play_game():\n",
    "    x = 24  # Number of throws\n",
    "    current_position = 1  # Starting position\n",
    "\n",
    "    # Flag to track if we've landed on step 25\n",
    "    landed_on_25 = False\n",
    "\n",
    "    for _ in range(x):\n",
    "        outcome = throw_coin()\n",
    "        current_position += outcome\n",
    "\n",
    "        # Check if we've landed on step 25\n",
    "        if current_position == 25:\n",
    "            landed_on_25 = True\n",
    "            break  # No need to continue if we've already landed on 25\n",
    "\n",
    "    return landed_on_25\n",
    "\n",
    "# Run the game 100 times\n",
    "landed_on_25_count = 0\n",
    "for i in range(100000):\n",
    "    if play_game():\n",
    "        landed_on_25_count += 1\n",
    "\n",
    "print(\"Number of cases where step 25 was reached:\", landed_on_25_count)\n"
   ]
  }
 ],
 "metadata": {
  "kernelspec": {
   "display_name": "Python 3 (ipykernel)",
   "language": "python",
   "name": "python3"
  },
  "language_info": {
   "codemirror_mode": {
    "name": "ipython",
    "version": 3
   },
   "file_extension": ".py",
   "mimetype": "text/x-python",
   "name": "python",
   "nbconvert_exporter": "python",
   "pygments_lexer": "ipython3",
   "version": "3.11.5"
  }
 },
 "nbformat": 4,
 "nbformat_minor": 5
}
