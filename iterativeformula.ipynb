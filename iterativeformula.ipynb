{
 "cells": [
  {
   "cell_type": "code",
   "execution_count": 8,
   "id": "07cf0ccc-2d7c-42f1-bb90-6b0927097165",
   "metadata": {
    "tags": []
   },
   "outputs": [
    {
     "name": "stdout",
     "output_type": "stream",
     "text": [
      "P(25) = 0.6666666666666667\n"
     ]
    }
   ],
   "source": [
    "def calculate_p(n):\n",
    "    if n == 2:\n",
    "        return 1/2\n",
    "    elif n == 3:\n",
    "        return 3/4\n",
    "    else:\n",
    "        p_n_minus_1 = 3/4\n",
    "        p_n_minus_2 = 1/2\n",
    "        for i in range(4, n + 1):\n",
    "            p_n = 1/2 * (p_n_minus_1 + p_n_minus_2)\n",
    "            p_n_minus_2 = p_n_minus_1\n",
    "            p_n_minus_1 = p_n\n",
    "        return p_n\n",
    "\n",
    "p_25 = calculate_p(500)\n",
    "print(\"P(25) =\", p_25)\n"
   ]
  }
 ],
 "metadata": {
  "kernelspec": {
   "display_name": "Python 3 (ipykernel)",
   "language": "python",
   "name": "python3"
  },
  "language_info": {
   "codemirror_mode": {
    "name": "ipython",
    "version": 3
   },
   "file_extension": ".py",
   "mimetype": "text/x-python",
   "name": "python",
   "nbconvert_exporter": "python",
   "pygments_lexer": "ipython3",
   "version": "3.11.5"
  }
 },
 "nbformat": 4,
 "nbformat_minor": 5
}
